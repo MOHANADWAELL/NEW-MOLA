{
 "cells": [
  {
   "cell_type": "code",
   "execution_count": 4,
   "id": "01f49635-2a76-447e-8b22-e5b511fca001",
   "metadata": {},
   "outputs": [],
   "source": [
    "MOHVND = {'MONO:2' , 'HONDA:4' , 'TAKOO:8'}"
   ]
  },
  {
   "cell_type": "code",
   "execution_count": 6,
   "id": "be53e41f-7c16-4924-9d7d-428eec6ba627",
   "metadata": {},
   "outputs": [],
   "source": [
    "TAKOO = {\"NAME\":\"HONDA\" , \"AGE\":\"16\" , \"LOCATION\":\"OCT.\"}\n",
    "NAME=TAKOO[\"NAME\"]"
   ]
  },
  {
   "cell_type": "code",
   "execution_count": 26,
   "id": "20b0d77e-d193-4229-9039-d0d041b1e110",
   "metadata": {},
   "outputs": [],
   "source": [
    "GRAD={\"EXLLNATE\":\"A\" , \"VERYGOOD\":\"B\" , \"GOOD\":\"C\"}\n",
    "EXLLNATE=GRAD[\"EXLLNATE\"]\n",
    "VERYGOOD=GRAD[\"VERYGOOD\"]\n",
    "GOOD=GRAD[\"GOOD\"]"
   ]
  },
  {
   "cell_type": "code",
   "execution_count": 27,
   "id": "45c73651-65b7-4929-81d1-b695d64256ac",
   "metadata": {},
   "outputs": [
    {
     "name": "stdout",
     "output_type": "stream",
     "text": [
      "A\n",
      "B\n",
      "C\n"
     ]
    }
   ],
   "source": [
    "print(EXLLNATE)\n",
    "print(VERYGOOD)\n",
    "print(GOOD)"
   ]
  },
  {
   "cell_type": "code",
   "execution_count": 28,
   "id": "919f7bd1-951f-41ba-b76f-e6937327ce09",
   "metadata": {
    "scrolled": true
   },
   "outputs": [
    {
     "data": {
      "text/plain": [
       "{'EXLLNATE': 'A', 'VERYGOOD': 'B', 'GOOD': 'C', 'GRAD_name': 'mobica'}"
      ]
     },
     "execution_count": 28,
     "metadata": {},
     "output_type": "execute_result"
    }
   ],
   "source": [
    "GRAD[\"GRAD_name\"]=\"mobica\"\n",
    "GRAD"
   ]
  },
  {
   "cell_type": "code",
   "execution_count": 34,
   "id": "581fac24-e2fb-4c9f-b06b-b731895f3fb0",
   "metadata": {},
   "outputs": [
    {
     "name": "stdin",
     "output_type": "stream",
     "text": [
      "num 5\n",
      "num2 4\n"
     ]
    }
   ],
   "source": [
    "user=(int(input(\"num\")))\n",
    "user2=(int(input(\"num2\")))"
   ]
  },
  {
   "cell_type": "code",
   "execution_count": 35,
   "id": "057610e7-b555-4bee-80e2-189736e3731b",
   "metadata": {},
   "outputs": [
    {
     "data": {
      "text/plain": [
       "1"
      ]
     },
     "execution_count": 35,
     "metadata": {},
     "output_type": "execute_result"
    }
   ],
   "source": [
    "user-user2"
   ]
  },
  {
   "cell_type": "code",
   "execution_count": 36,
   "id": "29a5c1aa-a3e3-47be-8a24-31cd5c139b15",
   "metadata": {
    "collapsed": true,
    "jupyter": {
     "outputs_hidden": true
    }
   },
   "outputs": [
    {
     "data": {
      "text/plain": [
       "1.25"
      ]
     },
     "execution_count": 36,
     "metadata": {},
     "output_type": "execute_result"
    }
   ],
   "source": [
    "user/user2"
   ]
  },
  {
   "cell_type": "code",
   "execution_count": 37,
   "id": "076c8487-6f38-4d2b-9260-ab89092cd53d",
   "metadata": {},
   "outputs": [
    {
     "data": {
      "text/plain": [
       "20"
      ]
     },
     "execution_count": 37,
     "metadata": {},
     "output_type": "execute_result"
    }
   ],
   "source": [
    "user*user2"
   ]
  },
  {
   "cell_type": "code",
   "execution_count": null,
   "id": "8565df3b-b3ed-40a8-9f2d-c29f4e9c10f7",
   "metadata": {},
   "outputs": [],
   "source": []
  }
 ],
 "metadata": {
  "kernelspec": {
   "display_name": "Python 3 (ipykernel)",
   "language": "python",
   "name": "python3"
  },
  "language_info": {
   "codemirror_mode": {
    "name": "ipython",
    "version": 3
   },
   "file_extension": ".py",
   "mimetype": "text/x-python",
   "name": "python",
   "nbconvert_exporter": "python",
   "pygments_lexer": "ipython3",
   "version": "3.13.0"
  }
 },
 "nbformat": 4,
 "nbformat_minor": 5
}
